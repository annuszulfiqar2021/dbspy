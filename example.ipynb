{
 "cells": [
  {
   "cell_type": "code",
   "execution_count": 1,
   "id": "bb20b2c9",
   "metadata": {},
   "outputs": [],
   "source": [
    "%load_ext autoreload\n",
    "%autoreload 2"
   ]
  },
  {
   "cell_type": "markdown",
   "id": "17bff8c0",
   "metadata": {},
   "source": [
    "# Regular Join Operator"
   ]
  },
  {
   "cell_type": "code",
   "execution_count": 2,
   "id": "19abbe03",
   "metadata": {},
   "outputs": [],
   "source": [
    "from typing import List, Tuple, Set\n",
    "\n",
    "def regular_join[K, V1, V2](\n",
    "    left: Set[Tuple[K, V1]], right: Set[Tuple[K, V2]]\n",
    ") -> List[Tuple[K, V1, V2]]:\n",
    "    \n",
    "    output: List[Tuple[K, V1, V2]] = []\n",
    "    for left_key, left_value in left:\n",
    "        for right_key, right_value in right:\n",
    "            if left_key == right_key:\n",
    "                output.append((left_key, left_value, right_value))\n",
    "    \n",
    "    return output"
   ]
  },
  {
   "cell_type": "code",
   "execution_count": 3,
   "id": "3595fc07",
   "metadata": {},
   "outputs": [
    {
     "name": "stdout",
     "output_type": "stream",
     "text": [
      "Regular Join: [(0, 'kristjan', '38750'), (2, 'mike', '40000'), (1, 'mark', '50000')]\n"
     ]
    }
   ],
   "source": [
    "employees = {(0, \"kristjan\"), (1, \"mark\"), (2, \"mike\")}\n",
    "salaries = {(2, \"40000\"), (0, \"38750\"), (1, \"50000\")}\n",
    "employees_salaries = regular_join(employees, salaries)\n",
    "print(f\"Regular Join: {employees_salaries}\")"
   ]
  },
  {
   "cell_type": "markdown",
   "id": "d9826e3e",
   "metadata": {},
   "source": [
    "# Join with Z-Sets"
   ]
  },
  {
   "cell_type": "code",
   "execution_count": 4,
   "id": "2e31318c",
   "metadata": {},
   "outputs": [
    {
     "name": "stdout",
     "output_type": "stream",
     "text": [
      "ZSet join: {(0, 'kristjan', '38750'): 1, (2, 'mike', '40000'): 1, (1, 'mark', '50000'): 1}\n"
     ]
    }
   ],
   "source": [
    "from dbspy.zset import ZSet\n",
    "from dbspy.zset.functions.bilinear import join\n",
    "\n",
    "employees_zset = ZSet({k: 1 for k in employees})\n",
    "salaries_zset = ZSet({k: 1 for k in salaries})\n",
    "employees_salaries_zset = join(\n",
    "    employees_zset,\n",
    "    salaries_zset,\n",
    "    lambda left, right: left[0] == right[0],\n",
    "    lambda left, right: (left[0], left[1], right[1])\n",
    ")\n",
    "print(f\"ZSet join: {employees_salaries_zset}\")"
   ]
  },
  {
   "cell_type": "markdown",
   "id": "1088de0e",
   "metadata": {},
   "source": [
    "# Streaming Joins (Non-Incremental)"
   ]
  },
  {
   "cell_type": "code",
   "execution_count": 5,
   "id": "9cbb99ac",
   "metadata": {},
   "outputs": [
    {
     "name": "stdout",
     "output_type": "stream",
     "text": [
      "ZSet stream join: {(0, 'kristjan', '38750'): 1, (2, 'mike', '40000'): 1, (1, 'mark', '50000'): 1}\n"
     ]
    }
   ],
   "source": [
    "from dbspy.zset import ZSetAddition\n",
    "from dbspy.stream import Stream, StreamHandle\n",
    "from dbspy.stream.operators.linear import Integrate\n",
    "from dbspy.zset.operators.bilinear import LiftedJoin\n",
    "\n",
    "group = ZSetAddition()\n",
    "employees_stream = Stream(group)\n",
    "employees_stream_handle = StreamHandle(lambda: employees_stream)\n",
    "employees_stream.send(employees_zset)\n",
    "\n",
    "salaries_stream = Stream(group)\n",
    "salaries_stream_handle = StreamHandle(lambda: salaries_stream)\n",
    "salaries_stream.send(salaries_zset)\n",
    "\n",
    "join_cmp = lambda left, right: left[0] == right[0]\n",
    "join_projection = lambda left, right: (left[0], left[1], right[1])\n",
    "\n",
    "integrated_employees = Integrate(employees_stream_handle)\n",
    "integrated_salaries = Integrate(salaries_stream_handle)\n",
    "stream_join = LiftedJoin(\n",
    "    integrated_employees.output_handle(),\n",
    "    integrated_salaries.output_handle(),\n",
    "    join_cmp,\n",
    "    join_projection,\n",
    ")\n",
    "integrated_employees.step()\n",
    "integrated_salaries.step()\n",
    "stream_join.step()\n",
    "print(f\"ZSet stream join: {stream_join.output().latest()}\")"
   ]
  },
  {
   "cell_type": "markdown",
   "id": "68050516",
   "metadata": {},
   "source": [
    "# Incremental Join with Incrementalize2"
   ]
  },
  {
   "cell_type": "code",
   "execution_count": 6,
   "id": "2c83d27d",
   "metadata": {},
   "outputs": [
    {
     "name": "stdout",
     "output_type": "stream",
     "text": [
      "Incremental ZSet stream join: {(0, 'kristjan', '38750'): 1, (2, 'mike', '40000'): 1, (1, 'mark', '50000'): 1}\n"
     ]
    }
   ],
   "source": [
    "from dbspy.stream.operators.bilinear import Incrementalize2\n",
    "\n",
    "incremental_stream_join = Incrementalize2(\n",
    "    employees_stream_handle,\n",
    "    salaries_stream_handle,\n",
    "    lambda left, right: join(left, right, join_cmp, join_projection),\n",
    "    group,\n",
    ")\n",
    "incremental_stream_join.step()\n",
    "print(f\"Incremental ZSet stream join: {incremental_stream_join.output().latest()}\")"
   ]
  },
  {
   "cell_type": "code",
   "execution_count": 7,
   "id": "b5485f5e",
   "metadata": {},
   "outputs": [
    {
     "name": "stdout",
     "output_type": "stream",
     "text": [
      "Incremental ZSet stream join update: {(2, 'mike', '40000'): -1}\n"
     ]
    }
   ],
   "source": [
    "employees_stream.send(ZSet({(2, \"mike\"): -1}))\n",
    "incremental_stream_join.step()\n",
    "print(f\"Incremental ZSet stream join update: {incremental_stream_join.output().latest()}\")"
   ]
  },
  {
   "cell_type": "markdown",
   "id": "13938961",
   "metadata": {},
   "source": [
    "# Indexed Join Operation"
   ]
  },
  {
   "cell_type": "code",
   "execution_count": 8,
   "id": "77ddaf2a",
   "metadata": {},
   "outputs": [
    {
     "name": "stdout",
     "output_type": "stream",
     "text": [
      "Incremental indexed ZSet stream join: {(0, 'kristjan', '38750'): 1, (1, 'mark', '50000'): 1, (2, 'mike', '40000'): 1}\n"
     ]
    }
   ],
   "source": [
    "from dbspy.indexed_zset.functions.bilinear import join_with_index\n",
    "from dbspy.indexed_zset.operators.linear import LiftedIndex\n",
    "\n",
    "indexer = lambda x: x[0]\n",
    "index_employees = LiftedIndex(employees_stream_handle, indexer)\n",
    "index_salaries = LiftedIndex(salaries_stream_handle, indexer)\n",
    "indexed_join_projection = lambda key, left, right: (key, left[1], right[1])\n",
    "incremental_sort_merge_join = Incrementalize2(\n",
    "    index_employees.output_handle(), \n",
    "    index_salaries.output_handle(), \n",
    "    lambda l, r: join_with_index(l, r, indexed_join_projection), \n",
    "    group\n",
    ")\n",
    "index_employees.step()\n",
    "index_salaries.step()\n",
    "incremental_sort_merge_join.step()\n",
    "print(f\"Incremental indexed ZSet stream join: {incremental_sort_merge_join.output().latest()}\")"
   ]
  },
  {
   "cell_type": "code",
   "execution_count": 9,
   "id": "b9aaa8d9",
   "metadata": {},
   "outputs": [
    {
     "name": "stdout",
     "output_type": "stream",
     "text": [
      "Incremental ZSet stream join update: {(2, 'mike', '40000'): -1}\n"
     ]
    }
   ],
   "source": [
    "index_employees.step()\n",
    "incremental_sort_merge_join.step()\n",
    "print(f\"Incremental ZSet stream join update: {incremental_sort_merge_join.output().latest()}\")"
   ]
  },
  {
   "cell_type": "markdown",
   "id": "9b3a1057",
   "metadata": {},
   "source": [
    "# Generate Some Data for Testing"
   ]
  },
  {
   "cell_type": "code",
   "execution_count": 10,
   "id": "c46e7d48",
   "metadata": {},
   "outputs": [],
   "source": [
    "from random import randrange\n",
    "\n",
    "names = (\"kristjan\", \"mark\", \"mike\")\n",
    "max_pay = 100000\n",
    "fake_data = [\n",
    "    ((i, names[randrange(len(names))] + str(i)), (i, randrange(max_pay))) for i in range(3, 10003)\n",
    "]\n",
    "batch_size = 500\n",
    "fake_data_batches = [fake_data[i : i + batch_size] for i in range(0, len(fake_data), batch_size)]\n",
    "\n",
    "for batch in fake_data_batches:\n",
    "    employees_stream.send(ZSet({employee: 1 for employee, _ in batch}))\n",
    "    salaries_stream.send(ZSet({salary: 1 for _, salary in batch}))\n",
    "\n",
    "steps_to_take = len(fake_data_batches)"
   ]
  },
  {
   "cell_type": "markdown",
   "id": "db9e057f",
   "metadata": {},
   "source": [
    "# Streaming Join (Non-Incremental) on Larger Data"
   ]
  },
  {
   "cell_type": "code",
   "execution_count": 11,
   "id": "6941178e",
   "metadata": {},
   "outputs": [
    {
     "data": {
      "application/vnd.jupyter.widget-view+json": {
       "model_id": "4359ff016cd648e68c53c0bf852476cc",
       "version_major": 2,
       "version_minor": 0
      },
      "text/plain": [
       "  0%|          | 0/20 [00:00<?, ?it/s]"
      ]
     },
     "metadata": {},
     "output_type": "display_data"
    },
    {
     "name": "stdout",
     "output_type": "stream",
     "text": [
      "Time taken - on demand: 31.810323476791382s\n"
     ]
    }
   ],
   "source": [
    "from tqdm.notebook import tqdm\n",
    "from time import time\n",
    "\n",
    "time_start = time()\n",
    "measurements = []\n",
    "for _ in tqdm(range(steps_to_take)):\n",
    "    local_time = time()\n",
    "    integrated_employees.step()\n",
    "    integrated_salaries.step()\n",
    "    stream_join.step()\n",
    "    measurements.append(time() - local_time)\n",
    "print(f\"Time taken - on demand: {time() - time_start}s\")"
   ]
  },
  {
   "cell_type": "markdown",
   "id": "9d9e5cc1",
   "metadata": {},
   "source": [
    "# Pandas Join on Larger Data"
   ]
  },
  {
   "cell_type": "code",
   "execution_count": 12,
   "id": "23a10476",
   "metadata": {},
   "outputs": [
    {
     "data": {
      "application/vnd.jupyter.widget-view+json": {
       "model_id": "0140fadabebf49e0867f3216023fb0f2",
       "version_major": 2,
       "version_minor": 0
      },
      "text/plain": [
       "  0%|          | 0/20 [00:00<?, ?it/s]"
      ]
     },
     "metadata": {},
     "output_type": "display_data"
    },
    {
     "name": "stdout",
     "output_type": "stream",
     "text": [
      "Time taken - on demand with pandas: 0.05906844139099121s\n"
     ]
    }
   ],
   "source": [
    "import pandas as pd\n",
    "\n",
    "time_start = time()\n",
    "pandas_measurements = []\n",
    "employees_union_df = pd.DataFrame(columns=['id', 'name'])\n",
    "salaries_union_df = pd.DataFrame(columns=['id', 'salary'])\n",
    "exs = []\n",
    "\n",
    "for step in tqdm(range(steps_to_take)):\n",
    "    local_time = time()\n",
    "    employees_batch_df = pd.DataFrame(\n",
    "        [ employee for employee, _ in fake_data_batches[step] ], columns=['id', 'name']\n",
    "    )\n",
    "    employees_union_df = pd.concat(\n",
    "        [employees_union_df, employees_batch_df], ignore_index=True\n",
    "    )\n",
    "\n",
    "    salaries_batch_df = pd.DataFrame(\n",
    "        [ salary for _, salary in fake_data_batches[step] ], columns=['id', 'salary']\n",
    "    )\n",
    "    salaries_union_df = pd.concat([salaries_union_df, salaries_batch_df], ignore_index=True)\n",
    "    \n",
    "    employees_x_salaries = pd.merge(employees_union_df, salaries_union_df, on=['id'], how='inner')\n",
    "    exs.append(employees_x_salaries)\n",
    "    pandas_measurements.append(time() - local_time)\n",
    "\n",
    "print(f\"Time taken - on demand with pandas: {time() - time_start}s\")"
   ]
  },
  {
   "cell_type": "markdown",
   "id": "7dea8534",
   "metadata": {},
   "source": [
    "# Incremental (Non-Index) Join on Larger Data"
   ]
  },
  {
   "cell_type": "code",
   "execution_count": 13,
   "id": "bd01536e",
   "metadata": {},
   "outputs": [
    {
     "data": {
      "application/vnd.jupyter.widget-view+json": {
       "model_id": "71b810b132e24653a315b51457574014",
       "version_major": 2,
       "version_minor": 0
      },
      "text/plain": [
       "  0%|          | 0/20 [00:00<?, ?it/s]"
      ]
     },
     "metadata": {},
     "output_type": "display_data"
    },
    {
     "name": "stdout",
     "output_type": "stream",
     "text": [
      "Time taken - incremental: 5.185602426528931s\n"
     ]
    }
   ],
   "source": [
    "time_start = time()\n",
    "incremental_measurements = []\n",
    "for _ in tqdm(range(steps_to_take)):\n",
    "    local_time = time()\n",
    "    incremental_stream_join.step()\n",
    "    incremental_measurements.append(time() - local_time)\n",
    "print(f\"Time taken - incremental: {time() - time_start}s\")"
   ]
  },
  {
   "cell_type": "markdown",
   "id": "86f6f37e",
   "metadata": {},
   "source": [
    "# Incremental Index-Join on Larger Data"
   ]
  },
  {
   "cell_type": "code",
   "execution_count": 14,
   "id": "0a955432",
   "metadata": {},
   "outputs": [
    {
     "data": {
      "application/vnd.jupyter.widget-view+json": {
       "model_id": "56d23ce8a971487aa7eec8239b94c696",
       "version_major": 2,
       "version_minor": 0
      },
      "text/plain": [
       "  0%|          | 0/20 [00:00<?, ?it/s]"
      ]
     },
     "metadata": {},
     "output_type": "display_data"
    },
    {
     "name": "stdout",
     "output_type": "stream",
     "text": [
      "Time taken - incremental with index: 0.39069056510925293s\n"
     ]
    }
   ],
   "source": [
    "time_start = time()\n",
    "incremental_with_index_measurements = []\n",
    "for _ in tqdm(range(steps_to_take)):\n",
    "    local_time = time()\n",
    "    index_employees.step()\n",
    "    index_salaries.step()\n",
    "    incremental_sort_merge_join.step()\n",
    "    incremental_with_index_measurements.append(time() - local_time)\n",
    "print(f\"Time taken - incremental with index: {time() - time_start}s\")"
   ]
  },
  {
   "cell_type": "markdown",
   "id": "53a6d7c8",
   "metadata": {},
   "source": [
    "# Pandas Join vs Join vs Inc. Join vs Inc. Index-Join"
   ]
  },
  {
   "cell_type": "code",
   "execution_count": 15,
   "id": "20a1f04f",
   "metadata": {},
   "outputs": [
    {
     "data": {
      "text/plain": [
       "<Axes: xlabel='t', ylabel='seconds'>"
      ]
     },
     "execution_count": 15,
     "metadata": {},
     "output_type": "execute_result"
    },
    {
     "data": {
      "image/png": "[encoded data removed]",
      "text/plain": [
       "<Figure size 640x480 with 1 Axes>"
      ]
     },
     "metadata": {},
     "output_type": "display_data"
    }
   ],
   "source": [
    "import seaborn as sns\n",
    "\n",
    "df = pd.DataFrame({\n",
    "    \"Pandas Join\": pandas_measurements, \n",
    "    \"Join\": measurements, \n",
    "    \"Inc. Join\": incremental_measurements, \n",
    "    \"Inc. Index-Join\": incremental_with_index_measurements, \n",
    "    \"t\": list(range(steps_to_take)) \n",
    "})\n",
    "df_ready = pd.melt(\n",
    "    df, \n",
    "    id_vars=['t'], \n",
    "    value_vars=['Pandas Join', 'Join', 'Inc. Join', 'Inc. Index-Join'], \n",
    "    var_name='series', \n",
    "    value_name='seconds'\n",
    ")\n",
    "\n",
    "sns.lineplot(data=df_ready, x='t', y='seconds', hue='series')"
   ]
  },
  {
   "cell_type": "markdown",
   "id": "a5089ae4",
   "metadata": {},
   "source": [
    "# Pandas Join with Larger Data"
   ]
  },
  {
   "cell_type": "code",
   "execution_count": 16,
   "id": "d13ae806",
   "metadata": {},
   "outputs": [
    {
     "data": {
      "application/vnd.jupyter.widget-view+json": {
       "model_id": "6f0b318b759f4012af855417090a3890",
       "version_major": 2,
       "version_minor": 0
      },
      "text/plain": [
       "  0%|          | 0/100 [00:00<?, ?it/s]"
      ]
     },
     "metadata": {},
     "output_type": "display_data"
    },
    {
     "name": "stdout",
     "output_type": "stream",
     "text": [
      "Time taken - on demand with pandas: 134.21832251548767s\n"
     ]
    }
   ],
   "source": [
    "batch_size = 100000\n",
    "\n",
    "lots_of_fake_data = [\n",
    "    ((i, names[randrange(len(names))] + str(i)), (i, randrange(max_pay))) for i in range(10000000)\n",
    "]\n",
    "lots_of_fake_data_batches = [\n",
    "    lots_of_fake_data[i : i + batch_size] for i in range(0, len(lots_of_fake_data), batch_size)\n",
    "]\n",
    "\n",
    "new_pandas_measurements = []\n",
    "employees_union_df = pd.DataFrame(columns=['id', 'name'])\n",
    "salaries_union_df = pd.DataFrame(columns=['id', 'salary'])\n",
    "new_steps_to_take = len(lots_of_fake_data_batches)\n",
    "results_pandas = [] \n",
    "\n",
    "time_start = time()\n",
    "for step in tqdm(range(new_steps_to_take)):\n",
    "    local_time = time()\n",
    "    employees_batch_df = pd.DataFrame(\n",
    "        [ employee for employee, _ in lots_of_fake_data_batches[step] ], columns=['id', 'name']\n",
    "    )\n",
    "    employees_union_df = pd.concat([employees_union_df, employees_batch_df], ignore_index=True)\n",
    "\n",
    "    salaries_batch_df = pd.DataFrame(\n",
    "        [ salary for _, salary in lots_of_fake_data_batches[step] ], columns=['id', 'salary']\n",
    "    )\n",
    "    salaries_union_df = pd.concat([salaries_union_df, salaries_batch_df], ignore_index=True)\n",
    "    \n",
    "    employees_x_salaries = pd.merge(employees_union_df, salaries_union_df, on='id', how='inner')\n",
    "    results_pandas.append(employees_x_salaries)\n",
    "    new_pandas_measurements.append(time() - local_time)\n",
    "\n",
    "print(f\"Time taken - on demand with pandas: {time() - time_start}s\")"
   ]
  },
  {
   "cell_type": "markdown",
   "id": "c3c07f7b",
   "metadata": {},
   "source": [
    "# Pandas DataFrames as Z-Sets"
   ]
  },
  {
   "cell_type": "code",
   "execution_count": 17,
   "id": "1d81f6e3",
   "metadata": {},
   "outputs": [],
   "source": [
    "from dbspy.core import AbelianGroupOperation\n",
    "\n",
    "class ImmutableDataframeZSet:\n",
    "    def __init__(self, df: pd.DataFrame) -> None:\n",
    "        if 'weight' not in df.columns:\n",
    "            raise ValueError(\"DataFrame must have a 'weight' column\")\n",
    "        self.inner: List[pd.DataFrame] = [df[df['weight'] != 0]]\n",
    "\n",
    "    def __repr__(self) -> str:\n",
    "        return self.inner.__repr__()\n",
    "\n",
    "    def __eq__(self, other: object) -> bool:\n",
    "        if not isinstance(other, ImmutableDataframeZSet):\n",
    "            return False\n",
    "        if len(self.inner) != len(other.inner):\n",
    "            return False\n",
    "        return all(df1 is df2 for df1, df2 in zip(self.inner, other.inner))\n",
    "\n",
    "class ImmutableDataframeZSetAddition(AbelianGroupOperation[ImmutableDataframeZSet]):\n",
    "    def add(self, a: ImmutableDataframeZSet, b: ImmutableDataframeZSet) -> ImmutableDataframeZSet:\n",
    "        if not a.inner:\n",
    "            return b\n",
    "\n",
    "        if not b.inner:\n",
    "            return b\n",
    "            \n",
    "        result = ImmutableDataframeZSet(pd.DataFrame(columns=a.inner[0].columns))\n",
    "        result.inner = a.inner + b.inner\n",
    "        return result\n",
    "\n",
    "    def neg(self, a: ImmutableDataframeZSet) -> ImmutableDataframeZSet:\n",
    "        result = ImmutableDataframeZSet(pd.DataFrame(columns=a.inner[0].columns))\n",
    "        result.inner = [df.assign(weight=lambda x: -x.weight) for df in a.inner]\n",
    "        return result\n",
    "\n",
    "    def identity(self) -> ImmutableDataframeZSet:\n",
    "        return ImmutableDataframeZSet(pd.DataFrame(columns=['weight']))"
   ]
  },
  {
   "cell_type": "markdown",
   "id": "6341663c",
   "metadata": {},
   "source": [
    "# Inner Join with Z-Set Pandas DataFrames"
   ]
  },
  {
   "cell_type": "code",
   "execution_count": 18,
   "id": "9cecd7ea",
   "metadata": {},
   "outputs": [],
   "source": [
    "immutable_df_abelian_group = ImmutableDataframeZSetAddition()\n",
    "\n",
    "def join_dfs(\n",
    "    left_df: pd.DataFrame,\n",
    "    right_df: pd.DataFrame,\n",
    "    join_columns: List[str]\n",
    "):\n",
    "    if left_df.empty or right_df.empty:\n",
    "        return pd.DataFrame()\n",
    "    \n",
    "    joined = pd.merge(left_df, right_df, on=join_columns, how='inner', suffixes=('_left', '_right'))\n",
    "    joined['weight'] = joined['weight_left'] * joined['weight_right']\n",
    "    joined = joined.drop(['weight_left', 'weight_right'], axis=1)\n",
    "\n",
    "    return joined\n",
    "\n",
    "def immutable_dataframe_zset_join(\n",
    "    left_zset: ImmutableDataframeZSet,\n",
    "    right_zset: ImmutableDataframeZSet,\n",
    "    join_columns: List[str]\n",
    ") -> ImmutableDataframeZSet:\n",
    "    join_tasks = [(left_df, right_df, join_columns) \n",
    "                  for left_df in left_zset.inner \n",
    "                  for right_df in right_zset.inner]\n",
    "\n",
    "    result_dfs = [ join_dfs(left, right, join_columns) for left, right, join_columns in join_tasks ]\n",
    "\n",
    "    non_empty_dfs = [df for df in result_dfs if not df.empty]\n",
    "\n",
    "    if not non_empty_dfs:\n",
    "        return immutable_df_abelian_group.identity()\n",
    "\n",
    "    result = ImmutableDataframeZSet(pd.DataFrame(columns=non_empty_dfs[0].columns))\n",
    "    result.inner = non_empty_dfs\n",
    "    return result"
   ]
  },
  {
   "cell_type": "markdown",
   "id": "dcf1200b",
   "metadata": {},
   "source": [
    "## Test Pandas Z-Set"
   ]
  },
  {
   "cell_type": "code",
   "execution_count": 19,
   "id": "32725970",
   "metadata": {},
   "outputs": [
    {
     "name": "stdout",
     "output_type": "stream",
     "text": [
      "[   id      name salary  weight\n",
      "0   0  kristjan  38750       1\n",
      "1   2      mike  40000       1\n",
      "2   1      mark  50000       1]\n"
     ]
    }
   ],
   "source": [
    "employees_with_weight = [ employee + (1,) for employee in employees ]\n",
    "salaries_with_weight = [ salary + (1,) for salary in salaries ]  \n",
    "\n",
    "employees_pandas_zset = ImmutableDataframeZSet(\n",
    "    pd.DataFrame(employees_with_weight, columns=['id', 'name', 'weight'])\n",
    ")\n",
    "salaries_pandas_zset = ImmutableDataframeZSet(\n",
    "    pd.DataFrame(salaries_with_weight , columns=['id', 'salary', 'weight'])\n",
    ")\n",
    "\n",
    "print(immutable_dataframe_zset_join(employees_pandas_zset, salaries_pandas_zset, 'id'))"
   ]
  },
  {
   "cell_type": "markdown",
   "id": "090b2b9e",
   "metadata": {},
   "source": [
    "# Pandas DataFrame Incremental Inner Join"
   ]
  },
  {
   "cell_type": "code",
   "execution_count": 20,
   "id": "ae448027",
   "metadata": {},
   "outputs": [
    {
     "data": {
      "application/vnd.jupyter.widget-view+json": {
       "model_id": "9b46eeff7e634981a3e2b10d2ea4ba23",
       "version_major": 2,
       "version_minor": 0
      },
      "text/plain": [
       "  0%|          | 0/100 [00:00<?, ?it/s]"
      ]
     },
     "metadata": {},
     "output_type": "display_data"
    },
    {
     "name": "stdout",
     "output_type": "stream",
     "text": [
      "Time taken - incremental: 33.44777536392212s\n"
     ]
    }
   ],
   "source": [
    "employees_dfs_stream = Stream(immutable_df_abelian_group)\n",
    "employees_dfs_stream_handle = StreamHandle(lambda: employees_dfs_stream)\n",
    "\n",
    "salaries_dfs_stream = Stream(immutable_df_abelian_group)\n",
    "salaries_dfs_stream_handle = StreamHandle(lambda: salaries_dfs_stream)\n",
    "\n",
    "incremental_pandas_join = Incrementalize2(\n",
    "    employees_dfs_stream_handle, \n",
    "    salaries_dfs_stream_handle, \n",
    "    lambda l, r: immutable_dataframe_zset_join(l, r, ['id']), \n",
    "    immutable_df_abelian_group\n",
    ")\n",
    "incremental_pandas_measurements = []\n",
    "time_start = time()\n",
    "for step in tqdm(range(new_steps_to_take)):\n",
    "    local_time = time()\n",
    "    employees_batch_df = pd.DataFrame(\n",
    "        [employee + (1,) for employee, _ in lots_of_fake_data_batches[step]], \n",
    "        columns=['id', 'name', 'weight']\n",
    "    )\n",
    "    employees_dfs_stream.send(ImmutableDataframeZSet(employees_batch_df))\n",
    "    salaries_batch_df = pd.DataFrame(\n",
    "        [ salary + (1,) for _, salary in lots_of_fake_data_batches[step] ], \n",
    "        columns=['id', 'salary', 'weight']\n",
    "    )\n",
    "    salaries_dfs_stream.send(ImmutableDataframeZSet(salaries_batch_df))\n",
    "        \n",
    "    incremental_pandas_join.step()\n",
    "    incremental_pandas_measurements.append(time() - local_time)\n",
    "print(f\"Time taken - incremental: {time() - time_start}s\")"
   ]
  },
  {
   "cell_type": "markdown",
   "id": "18911342",
   "metadata": {},
   "source": [
    "# Pandas Join vs Pandas Inc. Join"
   ]
  },
  {
   "cell_type": "code",
   "execution_count": 21,
   "id": "aef094bc",
   "metadata": {},
   "outputs": [
    {
     "data": {
      "text/plain": [
       "<Axes: xlabel='t', ylabel='seconds'>"
      ]
     },
     "execution_count": 21,
     "metadata": {},
     "output_type": "execute_result"
    },
    {
     "data": {
      "image/png": "[encoded data removed]",
      "text/plain": [
       "<Figure size 640x480 with 1 Axes>"
      ]
     },
     "metadata": {},
     "output_type": "display_data"
    }
   ],
   "source": [
    "df_inc = pd.DataFrame({\n",
    "    \"Pandas Join\": new_pandas_measurements, \n",
    "    \"Pandas Inc. Join\": incremental_pandas_measurements, \n",
    "    \"t\": list(range(new_steps_to_take)) \n",
    "})\n",
    "df_inc_ready = pd.melt(\n",
    "    df_inc, id_vars=['t'], \n",
    "    value_vars=['Pandas Join', 'Pandas Inc. Join'], \n",
    "    var_name='series', \n",
    "    value_name='seconds'\n",
    ")\n",
    "\n",
    "sns.lineplot(data=df_inc_ready, x='t', y='seconds', hue='series')"
   ]
  },
  {
   "cell_type": "code",
   "execution_count": null,
   "id": "6c70b133",
   "metadata": {},
   "outputs": [],
   "source": []
  }
 ],
 "metadata": {
  "kernelspec": {
   "display_name": "py313",
   "language": "python",
   "name": "python3"
  },
  "language_info": {
   "codemirror_mode": {
    "name": "ipython",
    "version": 3
   },
   "file_extension": ".py",
   "mimetype": "text/x-python",
   "name": "python",
   "nbconvert_exporter": "python",
   "pygments_lexer": "ipython3",
   "version": "3.13.5"
  }
 },
 "nbformat": 4,
 "nbformat_minor": 5
}
